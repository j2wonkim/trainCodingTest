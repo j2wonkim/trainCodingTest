{
 "cells": [
  {
   "cell_type": "code",
   "execution_count": null,
   "metadata": {},
   "outputs": [],
   "source": [
    "#Lv.0\n",
    "#문제 설명\n",
    "#머쓱이는 태어난 지 6개월 된 조카를 돌보고 있습니다. 조카는 아직 \"aya\", \"ye\", \"woo\", \"ma\" 네 가지 발음을 최대 한 번씩 사용해 조합한\n",
    "#(이어 붙인) 발음밖에 하지 못합니다. 문자열 배열 babbling이 매개변수로 주어질 때, 머쓱이의 조카가 발음할 수 있는 단어의 개수를\n",
    "#return하도록 solution 함수를 완성해주세요.\n",
    "\n",
    "#<제한사항>\n",
    "#1 ≤ babbling의 길이 ≤ 100\n",
    "#1 ≤ babbling[i]의 길이 ≤ 15\n",
    "#babbling의 각 문자열에서 \"aya\", \"ye\", \"woo\", \"ma\"는 각각 최대 한 번씩만 등장합니다.\n",
    "#즉, 각 문자열의 가능한 모든 부분 문자열 중에서 \"aya\", \"ye\", \"woo\", \"ma\"가 한 번씩만 등장합니다.\n",
    "#문자열은 알파벳 소문자로만 이루어져 있습니다."
   ]
  },
  {
   "cell_type": "code",
   "execution_count": 1,
   "metadata": {},
   "outputs": [],
   "source": [
    "# 2023/03/08\n",
    "def solution(babbling):\n",
    "    answer = 0\n",
    "    possible_word = [\"aya\", \"ye\", \"woo\", \"ma\"]\n",
    "    \n",
    "    for i in range(len(babbling)):\n",
    "        is_possible = False\n",
    "        \n",
    "        while len(babbling[i]) > 0:\n",
    "            if babbling[i][:3] in possible_word:\n",
    "                print(\"case1:\", babbling[i][:3])\n",
    "                is_possible = True\n",
    "                if len(babbling[i]) > len(babbling[i][:3]):\n",
    "                    babbling[i] = babbling[i][3:]\n",
    "                else:\n",
    "                    babbling[i] = \"\"\n",
    "            elif babbling[i][:2] in possible_word:\n",
    "                print(\"case2:\", babbling[i][:2])\n",
    "                is_possible = True\n",
    "                if len(babbling[i]) > len(babbling[i][:2]):\n",
    "                    babbling[i] = babbling[i][2:]\n",
    "                else:\n",
    "                    babbling[i] = \"\"\n",
    "            else:\n",
    "                babbling[i] = \"\"\n",
    "                is_possible = False\n",
    "        \n",
    "        print(\"is_possible:\", is_possible)\n",
    "        if is_possible == True:\n",
    "            answer += 1\n",
    "        print(\"answer:\", answer)\n",
    "    \n",
    "    return answer"
   ]
  },
  {
   "cell_type": "code",
   "execution_count": 2,
   "metadata": {},
   "outputs": [
    {
     "name": "stdout",
     "output_type": "stream",
     "text": [
      "case1: aya\n",
      "is_possible: True\n",
      "answer: 1\n",
      "case2: ye\n",
      "is_possible: False\n",
      "answer: 1\n",
      "is_possible: False\n",
      "answer: 1\n",
      "case2: ma\n",
      "is_possible: False\n",
      "answer: 1\n",
      "is_possible: False\n",
      "answer: 1\n"
     ]
    },
    {
     "data": {
      "text/plain": [
       "1"
      ]
     },
     "execution_count": 2,
     "metadata": {},
     "output_type": "execute_result"
    }
   ],
   "source": [
    "solution([\"aya\", \"yee\", \"u\", \"maa\", \"wyeoo\"])"
   ]
  },
  {
   "cell_type": "code",
   "execution_count": 3,
   "metadata": {},
   "outputs": [
    {
     "name": "stdout",
     "output_type": "stream",
     "text": [
      "case1: aya\n",
      "case1: ye\n",
      "is_possible: True\n",
      "answer: 1\n",
      "is_possible: False\n",
      "answer: 1\n",
      "case1: ye\n",
      "is_possible: True\n",
      "answer: 2\n",
      "case2: ye\n",
      "case2: ma\n",
      "case1: woo\n",
      "is_possible: True\n",
      "answer: 3\n",
      "case1: aya\n",
      "is_possible: False\n",
      "answer: 3\n"
     ]
    },
    {
     "data": {
      "text/plain": [
       "3"
      ]
     },
     "execution_count": 3,
     "metadata": {},
     "output_type": "execute_result"
    }
   ],
   "source": [
    "solution([\"ayaye\", \"uuuma\", \"ye\", \"yemawoo\", \"ayaa\"])"
   ]
  },
  {
   "cell_type": "code",
   "execution_count": null,
   "metadata": {},
   "outputs": [],
   "source": []
  }
 ],
 "metadata": {
  "kernelspec": {
   "display_name": "Python 3",
   "language": "python",
   "name": "python3"
  },
  "language_info": {
   "codemirror_mode": {
    "name": "ipython",
    "version": 3
   },
   "file_extension": ".py",
   "mimetype": "text/x-python",
   "name": "python",
   "nbconvert_exporter": "python",
   "pygments_lexer": "ipython3",
   "version": "3.5.4"
  }
 },
 "nbformat": 4,
 "nbformat_minor": 2
}

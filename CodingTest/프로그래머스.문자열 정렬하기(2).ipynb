{
 "cells": [
  {
   "cell_type": "code",
   "execution_count": null,
   "metadata": {},
   "outputs": [],
   "source": [
    "#Lv.0\n",
    "#문제 설명\n",
    "#영어 대소문자로 이루어진 문자열 my_string이 매개변수로 주어질 때,\n",
    "#my_string을 모두 소문자로 바꾸고 알파벳 순서대로 정렬한 문자열을 return 하도록 solution 함수를 완성해보세요.\n",
    "\n",
    "#<제한사항>\n",
    "#0 < my_string 길이 < 100"
   ]
  },
  {
   "cell_type": "code",
   "execution_count": 6,
   "metadata": {},
   "outputs": [],
   "source": [
    "# 2023/02/25\n",
    "def solution(my_string):\n",
    "    answer = ''\n",
    "    array = list(my_string)\n",
    "\n",
    "#    print(ord('A'))   65\n",
    "#    print(ord('Z'))   90\n",
    "#    print(ord('a'))   97\n",
    "#    print(ord('z'))  122\n",
    "    \n",
    "    for i in range(len(array)):\n",
    "        if ord(array[i]) >= 65 and ord(array[i]) <= 90:\n",
    "            answer += chr(ord(array[i]) + 32)\n",
    "        else:\n",
    "            answer += array[i]\n",
    "    \n",
    "    answer = list(answer)\n",
    "    answer.sort()\n",
    "    array = ''.join(answer)\n",
    "    answer = array\n",
    "    \n",
    "    return answer"
   ]
  },
  {
   "cell_type": "code",
   "execution_count": 7,
   "metadata": {},
   "outputs": [
    {
     "data": {
      "text/plain": [
       "'abcd'"
      ]
     },
     "execution_count": 7,
     "metadata": {},
     "output_type": "execute_result"
    }
   ],
   "source": [
    "solution(\"Bcad\")"
   ]
  },
  {
   "cell_type": "code",
   "execution_count": 8,
   "metadata": {},
   "outputs": [
    {
     "data": {
      "text/plain": [
       "'ehllo'"
      ]
     },
     "execution_count": 8,
     "metadata": {},
     "output_type": "execute_result"
    }
   ],
   "source": [
    "solution(\"heLLo\")"
   ]
  },
  {
   "cell_type": "code",
   "execution_count": 9,
   "metadata": {},
   "outputs": [
    {
     "data": {
      "text/plain": [
       "'hnopty'"
      ]
     },
     "execution_count": 9,
     "metadata": {},
     "output_type": "execute_result"
    }
   ],
   "source": [
    "solution(\"Python\")"
   ]
  },
  {
   "cell_type": "code",
   "execution_count": null,
   "metadata": {},
   "outputs": [],
   "source": []
  }
 ],
 "metadata": {
  "kernelspec": {
   "display_name": "Python 3",
   "language": "python",
   "name": "python3"
  },
  "language_info": {
   "codemirror_mode": {
    "name": "ipython",
    "version": 3
   },
   "file_extension": ".py",
   "mimetype": "text/x-python",
   "name": "python",
   "nbconvert_exporter": "python",
   "pygments_lexer": "ipython3",
   "version": "3.5.4"
  }
 },
 "nbformat": 4,
 "nbformat_minor": 2
}

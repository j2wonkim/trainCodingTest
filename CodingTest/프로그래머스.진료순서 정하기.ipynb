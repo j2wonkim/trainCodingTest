{
 "cells": [
  {
   "cell_type": "code",
   "execution_count": null,
   "metadata": {},
   "outputs": [],
   "source": [
    "#Lv.0\n",
    "#문제 설명\n",
    "#외과의사 머쓱이는 응급실에 온 환자의 응급도를 기준으로 진료 순서를 정하려고 합니다.\n",
    "#정수 배열 emergency가 매개변수로 주어질 때 응급도가 높은 순서대로 진료 순서를 정한 배열을 return하도록 solution 함수를 완성해주세요.\n",
    "\n",
    "#<제한사항>\n",
    "#중복된 원소는 없습니다.\n",
    "#1 ≤ emergency의 길이 ≤ 10\n",
    "#1 ≤ emergency의 원소 ≤ 100"
   ]
  },
  {
   "cell_type": "code",
   "execution_count": 1,
   "metadata": {},
   "outputs": [],
   "source": [
    "# 2023/03/18\n",
    "def solution(emergency):\n",
    "    answer = []\n",
    "    org_idx = []\n",
    "    make_rank = []\n",
    "    \n",
    "    for i in range(len(emergency)):\n",
    "        org_idx.append([emergency[i], i])\n",
    "    \n",
    "    print(\"정렬 전:\", org_idx)\n",
    "    \n",
    "    org_idx.sort(reverse=True)    \n",
    "    print(\"정렬 후:\", org_idx)\n",
    "\n",
    "    for i in range(1, len(org_idx) + 1):\n",
    "        make_rank.append([i, org_idx[i - 1][0], org_idx[i - 1][1]])\n",
    "    \n",
    "    print(\"make_rank:\", make_rank)\n",
    "        \n",
    "    for i in range(len(make_rank)):\n",
    "        for j in range(len(make_rank)):\n",
    "            if i == make_rank[j][2]:\n",
    "                answer.append(make_rank[j][0])\n",
    "    \n",
    "    return answer"
   ]
  },
  {
   "cell_type": "code",
   "execution_count": 2,
   "metadata": {},
   "outputs": [
    {
     "name": "stdout",
     "output_type": "stream",
     "text": [
      "정렬 전: [[3, 0], [76, 1], [24, 2]]\n",
      "정렬 후: [[76, 1], [24, 2], [3, 0]]\n",
      "make_rank: [[1, 76, 1], [2, 24, 2], [3, 3, 0]]\n"
     ]
    },
    {
     "data": {
      "text/plain": [
       "[3, 1, 2]"
      ]
     },
     "execution_count": 2,
     "metadata": {},
     "output_type": "execute_result"
    }
   ],
   "source": [
    "solution([3, 76, 24])"
   ]
  },
  {
   "cell_type": "code",
   "execution_count": 3,
   "metadata": {},
   "outputs": [
    {
     "name": "stdout",
     "output_type": "stream",
     "text": [
      "정렬 전: [[1, 0], [2, 1], [3, 2], [4, 3], [5, 4], [6, 5], [7, 6]]\n",
      "정렬 후: [[7, 6], [6, 5], [5, 4], [4, 3], [3, 2], [2, 1], [1, 0]]\n",
      "make_rank: [[1, 7, 6], [2, 6, 5], [3, 5, 4], [4, 4, 3], [5, 3, 2], [6, 2, 1], [7, 1, 0]]\n"
     ]
    },
    {
     "data": {
      "text/plain": [
       "[7, 6, 5, 4, 3, 2, 1]"
      ]
     },
     "execution_count": 3,
     "metadata": {},
     "output_type": "execute_result"
    }
   ],
   "source": [
    "solution([1, 2, 3, 4, 5, 6, 7])"
   ]
  },
  {
   "cell_type": "code",
   "execution_count": 4,
   "metadata": {},
   "outputs": [
    {
     "name": "stdout",
     "output_type": "stream",
     "text": [
      "정렬 전: [[30, 0], [10, 1], [23, 2], [6, 3], [100, 4]]\n",
      "정렬 후: [[100, 4], [30, 0], [23, 2], [10, 1], [6, 3]]\n",
      "make_rank: [[1, 100, 4], [2, 30, 0], [3, 23, 2], [4, 10, 1], [5, 6, 3]]\n"
     ]
    },
    {
     "data": {
      "text/plain": [
       "[2, 4, 3, 5, 1]"
      ]
     },
     "execution_count": 4,
     "metadata": {},
     "output_type": "execute_result"
    }
   ],
   "source": [
    "solution([30, 10, 23, 6, 100])"
   ]
  },
  {
   "cell_type": "code",
   "execution_count": null,
   "metadata": {},
   "outputs": [],
   "source": []
  }
 ],
 "metadata": {
  "kernelspec": {
   "display_name": "Python 3",
   "language": "python",
   "name": "python3"
  },
  "language_info": {
   "codemirror_mode": {
    "name": "ipython",
    "version": 3
   },
   "file_extension": ".py",
   "mimetype": "text/x-python",
   "name": "python",
   "nbconvert_exporter": "python",
   "pygments_lexer": "ipython3",
   "version": "3.5.4"
  }
 },
 "nbformat": 4,
 "nbformat_minor": 2
}

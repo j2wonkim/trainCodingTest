{
 "cells": [
  {
   "cell_type": "code",
   "execution_count": null,
   "metadata": {},
   "outputs": [],
   "source": [
    "#Lv.0\n",
    "#문제 설명\n",
    "#머쓱이는 프로그래머스에 로그인하려고 합니다. 머쓱이가 입력한 아이디와 패스워드가 담긴 배열 id_pw와 회원들의 정보가 담긴\n",
    "#2차원 배열 db가 주어질 때, 다음과 같이 로그인 성공, 실패에 따른 메시지를 return하도록 solution 함수를 완성해주세요.\n",
    "\n",
    "#아이디와 비밀번호가 모두 일치하는 회원정보가 있으면 \"login\"을 return합니다.\n",
    "#로그인이 실패했을 때 아이디가 일치하는 회원이 없다면 “fail”를,\n",
    "#아이디는 일치하지만 비밀번호가 일치하는 회원이 없다면 “wrong pw”를 return 합니다.\n",
    "\n",
    "#<제한사항>\n",
    "#회원들의 아이디는 문자열입니다.\n",
    "#회원들의 아이디는 알파벳 소문자와 숫자로만 이루어져 있습니다.\n",
    "#회원들의 패스워드는 숫자로 구성된 문자열입니다.\n",
    "#회원들의 비밀번호는 같을 수 있지만 아이디는 같을 수 없습니다.\n",
    "#id_pw의 길이는 2입니다.\n",
    "#id_pw와 db의 원소는 [아이디, 패스워드] 형태입니다.\n",
    "#1 ≤ 아이디의 길이 ≤ 15\n",
    "#1 ≤ 비밀번호의 길이 ≤ 6\n",
    "#1 ≤ db의 길이 ≤ 10\n",
    "#db의 원소의 길이는 2입니다."
   ]
  },
  {
   "cell_type": "code",
   "execution_count": 1,
   "metadata": {},
   "outputs": [],
   "source": [
    "# 2023/03/06\n",
    "def solution(id_pw, db):\n",
    "    answer = ''\n",
    "    \n",
    "    for i in range(len(db)):\n",
    "        if id_pw[0] == db[i][0]:\n",
    "            answer = 'wrong pw'\n",
    "            \n",
    "            if id_pw[1] == db[i][1]:\n",
    "                answer = 'login'\n",
    "                break\n",
    "            \n",
    "            break\n",
    "    \n",
    "    if answer == '':\n",
    "        answer = 'fail'\n",
    "    \n",
    "    return answer"
   ]
  },
  {
   "cell_type": "code",
   "execution_count": 2,
   "metadata": {},
   "outputs": [
    {
     "data": {
      "text/plain": [
       "'login'"
      ]
     },
     "execution_count": 2,
     "metadata": {},
     "output_type": "execute_result"
    }
   ],
   "source": [
    "solution([\"meosseugi\", \"1234\"], [[\"rardss\", \"123\"], [\"yyoom\", \"1234\"], [\"meosseugi\", \"1234\"]])"
   ]
  },
  {
   "cell_type": "code",
   "execution_count": 3,
   "metadata": {},
   "outputs": [
    {
     "data": {
      "text/plain": [
       "'wrong pw'"
      ]
     },
     "execution_count": 3,
     "metadata": {},
     "output_type": "execute_result"
    }
   ],
   "source": [
    "solution([\"programmer01\", \"15789\"], [[\"programmer02\", \"111111\"], [\"programmer00\", \"134\"], [\"programmer01\", \"1145\"]])"
   ]
  },
  {
   "cell_type": "code",
   "execution_count": 4,
   "metadata": {},
   "outputs": [
    {
     "data": {
      "text/plain": [
       "'fail'"
      ]
     },
     "execution_count": 4,
     "metadata": {},
     "output_type": "execute_result"
    }
   ],
   "source": [
    "solution([\"rabbit04\", \"98761\"], [[\"jaja11\", \"98761\"], [\"krong0313\", \"29440\"], [\"rabbit00\", \"111333\"]])"
   ]
  },
  {
   "cell_type": "code",
   "execution_count": null,
   "metadata": {},
   "outputs": [],
   "source": []
  }
 ],
 "metadata": {
  "kernelspec": {
   "display_name": "Python 3",
   "language": "python",
   "name": "python3"
  },
  "language_info": {
   "codemirror_mode": {
    "name": "ipython",
    "version": 3
   },
   "file_extension": ".py",
   "mimetype": "text/x-python",
   "name": "python",
   "nbconvert_exporter": "python",
   "pygments_lexer": "ipython3",
   "version": "3.5.4"
  }
 },
 "nbformat": 4,
 "nbformat_minor": 2
}

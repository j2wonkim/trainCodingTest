{
 "cells": [
  {
   "cell_type": "code",
   "execution_count": null,
   "metadata": {},
   "outputs": [],
   "source": [
    "#Lv.0\n",
    "#문제 설명\n",
    "#숫자와 \"Z\"가 공백으로 구분되어 담긴 문자열이 주어집니다. 문자열에 있는 숫자를 차례대로 더하려고 합니다.\n",
    "#이 때 \"Z\"가 나오면 바로 전에 더했던 숫자를 뺀다는 뜻입니다. 숫자와 \"Z\"로 이루어진 문자열 s가 주어질 때,\n",
    "#머쓱이가 구한 값을 return 하도록 solution 함수를 완성해보세요.\n",
    "\n",
    "#<제한사항>\n",
    "#1 ≤ s의 길이 ≤ 200\n",
    "#-1,000 < s의 원소 중 숫자 < 1,000\n",
    "#s는 숫자, \"Z\", 공백으로 이루어져 있습니다.\n",
    "#s에 있는 숫자와 \"Z\"는 서로 공백으로 구분됩니다.\n",
    "#연속된 공백은 주어지지 않습니다.\n",
    "#0을 제외하고는 0으로 시작하는 숫자는 없습니다.\n",
    "#s는 \"Z\"로 시작하지 않습니다.\n",
    "#s의 시작과 끝에는 공백이 없습니다.\n",
    "#\"Z\"가 연속해서 나오는 경우는 없습니다."
   ]
  },
  {
   "cell_type": "code",
   "execution_count": 1,
   "metadata": {},
   "outputs": [],
   "source": [
    "# 2023/03/19\n",
    "def solution(s):\n",
    "    answer = 0\n",
    "    to_str = s.split(' ')\n",
    "    sum_list = list()\n",
    "    \n",
    "    print(to_str)\n",
    "    \n",
    "    for i in range(len(to_str)):        \n",
    "        if to_str[i] == 'Z':\n",
    "            sum_list.pop()\n",
    "        else:\n",
    "            sum_list.append(int(to_str[i]))\n",
    "    \n",
    "    print(sum_list)\n",
    "    \n",
    "    for i in range(len(sum_list)):\n",
    "        answer += sum_list[i]\n",
    "    \n",
    "    return answer"
   ]
  },
  {
   "cell_type": "code",
   "execution_count": 2,
   "metadata": {},
   "outputs": [
    {
     "name": "stdout",
     "output_type": "stream",
     "text": [
      "['1', '2', 'Z', '3']\n",
      "[1, 3]\n"
     ]
    },
    {
     "data": {
      "text/plain": [
       "4"
      ]
     },
     "execution_count": 2,
     "metadata": {},
     "output_type": "execute_result"
    }
   ],
   "source": [
    "solution(\"1 2 Z 3\")"
   ]
  },
  {
   "cell_type": "code",
   "execution_count": 3,
   "metadata": {},
   "outputs": [
    {
     "name": "stdout",
     "output_type": "stream",
     "text": [
      "['10', '20', '30', '40']\n",
      "[10, 20, 30, 40]\n"
     ]
    },
    {
     "data": {
      "text/plain": [
       "100"
      ]
     },
     "execution_count": 3,
     "metadata": {},
     "output_type": "execute_result"
    }
   ],
   "source": [
    "solution(\"10 20 30 40\")"
   ]
  },
  {
   "cell_type": "code",
   "execution_count": 4,
   "metadata": {},
   "outputs": [
    {
     "name": "stdout",
     "output_type": "stream",
     "text": [
      "['10', 'Z', '20', 'Z', '1']\n",
      "[1]\n"
     ]
    },
    {
     "data": {
      "text/plain": [
       "1"
      ]
     },
     "execution_count": 4,
     "metadata": {},
     "output_type": "execute_result"
    }
   ],
   "source": [
    "solution(\"10 Z 20 Z 1\")"
   ]
  },
  {
   "cell_type": "code",
   "execution_count": 5,
   "metadata": {},
   "outputs": [
    {
     "name": "stdout",
     "output_type": "stream",
     "text": [
      "['10', 'Z', '20', 'Z']\n",
      "[]\n"
     ]
    },
    {
     "data": {
      "text/plain": [
       "0"
      ]
     },
     "execution_count": 5,
     "metadata": {},
     "output_type": "execute_result"
    }
   ],
   "source": [
    "solution(\"10 Z 20 Z\")"
   ]
  },
  {
   "cell_type": "code",
   "execution_count": 6,
   "metadata": {},
   "outputs": [
    {
     "name": "stdout",
     "output_type": "stream",
     "text": [
      "['-1', '-2', '-3', 'Z']\n",
      "[-1, -2]\n"
     ]
    },
    {
     "data": {
      "text/plain": [
       "-3"
      ]
     },
     "execution_count": 6,
     "metadata": {},
     "output_type": "execute_result"
    }
   ],
   "source": [
    "solution(\"-1 -2 -3 Z\")"
   ]
  },
  {
   "cell_type": "code",
   "execution_count": null,
   "metadata": {},
   "outputs": [],
   "source": []
  }
 ],
 "metadata": {
  "kernelspec": {
   "display_name": "Python 3",
   "language": "python",
   "name": "python3"
  },
  "language_info": {
   "codemirror_mode": {
    "name": "ipython",
    "version": 3
   },
   "file_extension": ".py",
   "mimetype": "text/x-python",
   "name": "python",
   "nbconvert_exporter": "python",
   "pygments_lexer": "ipython3",
   "version": "3.5.4"
  }
 },
 "nbformat": 4,
 "nbformat_minor": 2
}

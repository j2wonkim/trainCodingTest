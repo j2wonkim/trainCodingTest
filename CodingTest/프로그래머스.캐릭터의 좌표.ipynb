{
 "cells": [
  {
   "cell_type": "code",
   "execution_count": null,
   "metadata": {},
   "outputs": [],
   "source": [
    "#Lv.0\n",
    "#문제 설명\n",
    "#머쓱이는 RPG게임을 하고 있습니다. 게임에는 up, down, left, right 방향키가 있으며 각 키를 누르면 위, 아래, 왼쪽, 오른쪽으로\n",
    "#한 칸씩 이동합니다. 예를 들어 [0,0]에서 up을 누른다면 캐릭터의 좌표는 [0, 1], down을 누른다면 [0, -1], left를 누른다면\n",
    "#[-1, 0], right를 누른다면 [1, 0]입니다. 머쓱이가 입력한 방향키의 배열 keyinput와 맵의 크기 board이 매개변수로 주어집니다.\n",
    "#캐릭터는 항상 [0,0]에서 시작할 때 키 입력이 모두 끝난 뒤에 캐릭터의 좌표 [x, y]를 return하도록 solution 함수를 완성해주세요.\n",
    "\n",
    "#[0, 0]은 board의 정 중앙에 위치합니다. 예를 들어 board의 가로 크기가 9라면 캐릭터는 왼쪽으로 최대 [-4, 0]까지\n",
    "#오른쪽으로 최대 [4, 0]까지 이동할 수 있습니다.\n",
    "\n",
    "#<제한사항>\n",
    "#board은 [가로 크기, 세로 크기] 형태로 주어집니다.\n",
    "#board의 가로 크기와 세로 크기는 홀수입니다.\n",
    "#board의 크기를 벗어난 방향키 입력은 무시합니다.\n",
    "#0 ≤ keyinput의 길이 ≤ 50\n",
    "#1 ≤ board[0] ≤ 99\n",
    "#1 ≤ board[1] ≤ 99\n",
    "#keyinput은 항상 up, down, left, right만 주어집니다."
   ]
  },
  {
   "cell_type": "code",
   "execution_count": 1,
   "metadata": {},
   "outputs": [],
   "source": [
    "# 2023/03/06\n",
    "def solution(keyinput, board):\n",
    "    answer = []\n",
    "    \n",
    "    x, y = 0, 0\n",
    "    max_row = board[0] // 2\n",
    "    max_col = board[1] // 2\n",
    "    \n",
    "    for i in range(len(keyinput)):\n",
    "        if keyinput[i] == 'left' and x > -max_row:\n",
    "            x -= 1\n",
    "        elif keyinput[i] == 'right' and x < max_row:\n",
    "            x += 1\n",
    "        elif keyinput[i] == 'up' and y < max_col:\n",
    "            y += 1\n",
    "        elif keyinput[i] == 'down' and y > -max_col:\n",
    "            y -= 1\n",
    "    \n",
    "    answer = [x, y]\n",
    "    \n",
    "    print(answer)\n",
    "    \n",
    "    return answer"
   ]
  },
  {
   "cell_type": "code",
   "execution_count": 2,
   "metadata": {},
   "outputs": [
    {
     "name": "stdout",
     "output_type": "stream",
     "text": [
      "[2, 1]\n"
     ]
    },
    {
     "data": {
      "text/plain": [
       "[2, 1]"
      ]
     },
     "execution_count": 2,
     "metadata": {},
     "output_type": "execute_result"
    }
   ],
   "source": [
    "solution([\"left\", \"right\", \"up\", \"right\", \"right\"], [11, 11])"
   ]
  },
  {
   "cell_type": "code",
   "execution_count": 3,
   "metadata": {},
   "outputs": [
    {
     "name": "stdout",
     "output_type": "stream",
     "text": [
      "[0, -4]\n"
     ]
    },
    {
     "data": {
      "text/plain": [
       "[0, -4]"
      ]
     },
     "execution_count": 3,
     "metadata": {},
     "output_type": "execute_result"
    }
   ],
   "source": [
    "solution([\"down\", \"down\", \"down\", \"down\", \"down\"], [7, 9])"
   ]
  },
  {
   "cell_type": "code",
   "execution_count": null,
   "metadata": {},
   "outputs": [],
   "source": []
  }
 ],
 "metadata": {
  "kernelspec": {
   "display_name": "Python 3",
   "language": "python",
   "name": "python3"
  },
  "language_info": {
   "codemirror_mode": {
    "name": "ipython",
    "version": 3
   },
   "file_extension": ".py",
   "mimetype": "text/x-python",
   "name": "python",
   "nbconvert_exporter": "python",
   "pygments_lexer": "ipython3",
   "version": "3.5.4"
  }
 },
 "nbformat": 4,
 "nbformat_minor": 2
}

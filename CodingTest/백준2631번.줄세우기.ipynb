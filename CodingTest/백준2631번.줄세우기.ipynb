{
 "cells": [
  {
   "cell_type": "code",
   "execution_count": 16,
   "metadata": {},
   "outputs": [],
   "source": [
    "# 23/1/26\n",
    "# 백준, 2631번.줄세우기\n",
    "# https://www.acmicpc.net/problem/2631\n",
    "def sort(n):\n",
    "    data_list = list()\n",
    "    \n",
    "    for i in range(n):\n",
    "        data_list.append(int(input()))\n",
    "    \n",
    "    count = 0\n",
    "    max_num = data_list[0]\n",
    "    max_num_index = n - 1\n",
    "    \n",
    "    for i in range(1, n):\n",
    "        if data_list[i] > max_num:\n",
    "            max_num = data_list[i]\n",
    "            max_num_index = i            \n",
    "    \n",
    "    if data_list[-1] != data_list[max_num_index]:\n",
    "        data_list.append(data_list[max_num_index])\n",
    "        count += 1\n",
    "        del data_list[max_num_index]\n",
    "    \n",
    "    print(count, max_num_index, data_list)\n",
    "    \n",
    "    min_num = data_list[0]\n",
    "    min_num_index = 0\n",
    "    \n",
    "    for i in range(1, n):\n",
    "        if data_list[i] < min_num:\n",
    "            min_num = data_list[i]\n",
    "            min_num_index = i\n",
    "    \n",
    "    if data_list[0] != min_num:\n",
    "        data_list = [min_num] + data_list\n",
    "        count += 1\n",
    "        del data_list[min_num_index + 1]\n",
    "    \n",
    "    print(count, min_num_index, data_list)\n",
    "    \n",
    "#    for j in range(n - 1):\n",
    "#        min_num_index = 0\n",
    "#        for i in range(n - 1):\n",
    "#            if data_list[i] > data_list[i + 1]:\n",
    "#                min_num_index = i + 1\n",
    "    \n",
    "#    if min_num_index != 0:\n",
    "#        data_list = data_list[min_num_index] + data_list\n",
    "#        count += 1\n",
    "#        del data_list[min_num_index]\n",
    "    \n",
    "#    return data_list"
   ]
  },
  {
   "cell_type": "code",
   "execution_count": 17,
   "metadata": {},
   "outputs": [
    {
     "name": "stdout",
     "output_type": "stream",
     "text": [
      "3\n",
      "7\n",
      "5\n",
      "2\n",
      "6\n",
      "1\n",
      "4\n",
      "1 1 [3, 5, 2, 6, 1, 4, 7]\n",
      "2 4 [1, 3, 5, 2, 6, 4, 7]\n"
     ]
    }
   ],
   "source": [
    "sort(7)"
   ]
  },
  {
   "cell_type": "code",
   "execution_count": null,
   "metadata": {},
   "outputs": [],
   "source": []
  }
 ],
 "metadata": {
  "kernelspec": {
   "display_name": "Python 3",
   "language": "python",
   "name": "python3"
  },
  "language_info": {
   "codemirror_mode": {
    "name": "ipython",
    "version": 3
   },
   "file_extension": ".py",
   "mimetype": "text/x-python",
   "name": "python",
   "nbconvert_exporter": "python",
   "pygments_lexer": "ipython3",
   "version": "3.5.4"
  }
 },
 "nbformat": 4,
 "nbformat_minor": 2
}

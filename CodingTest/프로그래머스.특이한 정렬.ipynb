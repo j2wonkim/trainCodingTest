{
 "cells": [
  {
   "cell_type": "code",
   "execution_count": null,
   "metadata": {},
   "outputs": [],
   "source": [
    "#Lv.0\n",
    "#문제 설명\n",
    "#정수 n을 기준으로 n과 가까운 수부터 정렬하려고 합니다. 이때 n으로부터의 거리가 같다면 더 큰 수를 앞에 오도록 배치합니다.\n",
    "#정수가 담긴 배열 numlist와 정수 n이 주어질 때 numlist의 원소를 n으로부터 가까운 순서대로 정렬한 배열을 return하도록\n",
    "#solution 함수를 완성해주세요.\n",
    "\n",
    "#<제한사항>\n",
    "#1 ≤ n ≤ 10,000\n",
    "#1 ≤ numlist의 원소 ≤ 10,000\n",
    "#1 ≤ numlist의 길이 ≤ 100\n",
    "#numlist는 중복된 원소를 갖지 않습니다."
   ]
  },
  {
   "cell_type": "code",
   "execution_count": 1,
   "metadata": {},
   "outputs": [],
   "source": [
    "# 2023/03/06\n",
    "def solution(numlist, n):\n",
    "    answer = []\n",
    "    gap_list = list()\n",
    "    \n",
    "    for i in range(len(numlist)):\n",
    "        gap_list.append([abs(n - numlist[i]), numlist[i]])\n",
    "    \n",
    "    print(gap_list)    \n",
    "    gap_list.sort()\n",
    "    print(gap_list)\n",
    "    \n",
    "    for i in range(len(gap_list) - 1):\n",
    "        for j in range(i + 1, len(gap_list)):\n",
    "            if gap_list[i][0] == gap_list[j][0]:\n",
    "                if gap_list[i][1] < gap_list[j][1]:\n",
    "                    gap_list[i][1], gap_list[j][1] = gap_list[j][1], gap_list[i][1]\n",
    "    \n",
    "    print(gap_list)\n",
    "    \n",
    "    for i in range(len(gap_list)):\n",
    "        answer.append(gap_list[i][1])\n",
    "    \n",
    "    return answer"
   ]
  },
  {
   "cell_type": "code",
   "execution_count": 2,
   "metadata": {},
   "outputs": [
    {
     "name": "stdout",
     "output_type": "stream",
     "text": [
      "[[3, 1], [2, 2], [1, 3], [0, 4], [1, 5], [2, 6]]\n",
      "[[0, 4], [1, 3], [1, 5], [2, 2], [2, 6], [3, 1]]\n",
      "[[0, 4], [1, 5], [1, 3], [2, 6], [2, 2], [3, 1]]\n"
     ]
    },
    {
     "data": {
      "text/plain": [
       "[4, 5, 3, 6, 2, 1]"
      ]
     },
     "execution_count": 2,
     "metadata": {},
     "output_type": "execute_result"
    }
   ],
   "source": [
    "solution([1, 2, 3, 4, 5, 6], 4)"
   ]
  },
  {
   "cell_type": "code",
   "execution_count": 3,
   "metadata": {},
   "outputs": [
    {
     "name": "stdout",
     "output_type": "stream",
     "text": [
      "[[9970, 10000], [10, 20], [6, 36], [17, 47], [10, 40], [24, 6], [20, 10], [6970, 7000]]\n",
      "[[6, 36], [10, 20], [10, 40], [17, 47], [20, 10], [24, 6], [6970, 7000], [9970, 10000]]\n",
      "[[6, 36], [10, 40], [10, 20], [17, 47], [20, 10], [24, 6], [6970, 7000], [9970, 10000]]\n"
     ]
    },
    {
     "data": {
      "text/plain": [
       "[36, 40, 20, 47, 10, 6, 7000, 10000]"
      ]
     },
     "execution_count": 3,
     "metadata": {},
     "output_type": "execute_result"
    }
   ],
   "source": [
    "solution([10000,20,36,47,40,6,10,7000], 30)"
   ]
  },
  {
   "cell_type": "code",
   "execution_count": null,
   "metadata": {},
   "outputs": [],
   "source": []
  }
 ],
 "metadata": {
  "kernelspec": {
   "display_name": "Python 3",
   "language": "python",
   "name": "python3"
  },
  "language_info": {
   "codemirror_mode": {
    "name": "ipython",
    "version": 3
   },
   "file_extension": ".py",
   "mimetype": "text/x-python",
   "name": "python",
   "nbconvert_exporter": "python",
   "pygments_lexer": "ipython3",
   "version": "3.5.4"
  }
 },
 "nbformat": 4,
 "nbformat_minor": 2
}

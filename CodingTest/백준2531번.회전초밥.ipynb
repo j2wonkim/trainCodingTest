{
 "cells": [
  {
   "cell_type": "code",
   "execution_count": 8,
   "metadata": {},
   "outputs": [],
   "source": [
    "# 23/1/26\n",
    "# 백준, 2531번.회전초밥\n",
    "# https://www.acmicpc.net/problem/2531\n",
    "def max_count(dish, sushi, relay, coupon):\n",
    "    dish_list, dish_list2 = list(), list()\n",
    "    \n",
    "    for i in range(dish):\n",
    "        input_dish = int(input())\n",
    "        while sushi < input_dish:\n",
    "            print(sushi, \"이하의 수로 다시 입력하세요:\")\n",
    "            input_dish = int(input())\n",
    "        dish_list.append(input_dish)\n",
    "        \n",
    "    for i in range(relay - 1):\n",
    "        dish_list.append(dish_list[i])  # 입력 끝\n",
    "    \n",
    "    for i in range(dish):\n",
    "        dish_list2.append(dish_list[i:i + relay])\n",
    "    \n",
    "    print (dish_list2)\n",
    "    \n",
    "    min_equal = relay\n",
    "    for i in range(dish):\n",
    "        equal = 0\n",
    "        for j in range(relay):\n",
    "            if coupon == dish_list2[i][j]:\n",
    "                equal += 1\n",
    "        if min_equal > equal:\n",
    "            min_equal = equal\n",
    "        \n",
    "        if equal == 0:\n",
    "            return relay + 1\n",
    "    \n",
    "    return relay - (min_equal - 1)"
   ]
  },
  {
   "cell_type": "code",
   "execution_count": 11,
   "metadata": {},
   "outputs": [
    {
     "name": "stdout",
     "output_type": "stream",
     "text": [
      "7\n",
      "9\n",
      "7\n",
      "31\n",
      "30 이하의 수로 다시 입력하세요:\n",
      "50\n",
      "30 이하의 수로 다시 입력하세요:\n",
      "30\n",
      "2\n",
      "7\n",
      "9\n",
      "25\n",
      "[[7, 9, 7, 30], [9, 7, 30, 2], [7, 30, 2, 7], [30, 2, 7, 9], [2, 7, 9, 25], [7, 9, 25, 7], [9, 25, 7, 9], [25, 7, 9, 7]]\n"
     ]
    },
    {
     "data": {
      "text/plain": [
       "5"
      ]
     },
     "execution_count": 11,
     "metadata": {},
     "output_type": "execute_result"
    }
   ],
   "source": [
    "max_count(8, 30, 4, 30)"
   ]
  },
  {
   "cell_type": "code",
   "execution_count": 12,
   "metadata": {},
   "outputs": [
    {
     "name": "stdout",
     "output_type": "stream",
     "text": [
      "2\n",
      "90\n",
      "50 이하의 수로 다시 입력하세요:\n",
      "7\n",
      "100\n",
      "50 이하의 수로 다시 입력하세요:\n",
      "9\n",
      "25\n",
      "7\n",
      "9\n",
      "7\n",
      "30\n",
      "[[2, 7, 9, 25], [7, 9, 25, 7], [9, 25, 7, 9], [25, 7, 9, 7], [7, 9, 7, 30], [9, 7, 30, 2], [7, 30, 2, 7], [30, 2, 7, 9]]\n"
     ]
    },
    {
     "data": {
      "text/plain": [
       "4"
      ]
     },
     "execution_count": 12,
     "metadata": {},
     "output_type": "execute_result"
    }
   ],
   "source": [
    "max_count(8, 50, 4, 7)"
   ]
  },
  {
   "cell_type": "code",
   "execution_count": 13,
   "metadata": {},
   "outputs": [
    {
     "name": "stdout",
     "output_type": "stream",
     "text": [
      "51\n",
      "50 이하의 수로 다시 입력하세요:\n",
      "2\n",
      "7\n",
      "9\n",
      "25\n",
      "7\n",
      "9\n",
      "7\n",
      "30\n",
      "[[2, 7, 9], [7, 9, 25], [9, 25, 7], [25, 7, 9], [7, 9, 7], [9, 7, 30], [7, 30, 2], [30, 2, 7]]\n"
     ]
    },
    {
     "data": {
      "text/plain": [
       "3"
      ]
     },
     "execution_count": 13,
     "metadata": {},
     "output_type": "execute_result"
    }
   ],
   "source": [
    "max_count(8, 50, 3, 7)"
   ]
  },
  {
   "cell_type": "code",
   "execution_count": 14,
   "metadata": {},
   "outputs": [
    {
     "name": "stdout",
     "output_type": "stream",
     "text": [
      "2\n",
      "7\n",
      "9\n",
      "25\n",
      "7\n",
      "9\n",
      "7\n",
      "30\n",
      "[[2, 7], [7, 9], [9, 25], [25, 7], [7, 9], [9, 7], [7, 30], [30, 2]]\n"
     ]
    },
    {
     "data": {
      "text/plain": [
       "3"
      ]
     },
     "execution_count": 14,
     "metadata": {},
     "output_type": "execute_result"
    }
   ],
   "source": [
    "max_count(8, 50, 2, 7)"
   ]
  },
  {
   "cell_type": "code",
   "execution_count": null,
   "metadata": {},
   "outputs": [],
   "source": []
  }
 ],
 "metadata": {
  "kernelspec": {
   "display_name": "Python 3",
   "language": "python",
   "name": "python3"
  },
  "language_info": {
   "codemirror_mode": {
    "name": "ipython",
    "version": 3
   },
   "file_extension": ".py",
   "mimetype": "text/x-python",
   "name": "python",
   "nbconvert_exporter": "python",
   "pygments_lexer": "ipython3",
   "version": "3.5.4"
  }
 },
 "nbformat": 4,
 "nbformat_minor": 2
}

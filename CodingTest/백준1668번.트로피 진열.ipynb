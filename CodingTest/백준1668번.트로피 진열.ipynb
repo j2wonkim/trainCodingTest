{
 "cells": [
  {
   "cell_type": "code",
   "execution_count": 3,
   "metadata": {},
   "outputs": [],
   "source": [
    "# 2023/02/15\n",
    "# 백준, 1668번.트로피 진열\n",
    "# https://www.acmicpc.net/problem/1668\n",
    "\n",
    "def trophy_array():\n",
    "    N = int(input())\n",
    "    trophy_list = list()\n",
    "    left, right = 0, 0\n",
    "    max_data = 0\n",
    "    \n",
    "    for i in range(N):\n",
    "        input_data = int(input())\n",
    "        \n",
    "        if max_data < input_data:\n",
    "            max_data = input_data\n",
    "            left += 1\n",
    "        \n",
    "        trophy_list.append(input_data)\n",
    "    \n",
    "    max_data = 0\n",
    "    for i in range(N - 1, -1, -1):\n",
    "        if max_data < trophy_list[i]:\n",
    "            max_data = trophy_list[i]\n",
    "            right += 1\n",
    "    \n",
    "    print(\"출력-------\")\n",
    "    print(left)\n",
    "    print(right)"
   ]
  },
  {
   "cell_type": "code",
   "execution_count": 4,
   "metadata": {},
   "outputs": [
    {
     "name": "stdout",
     "output_type": "stream",
     "text": [
      "5\n",
      "1\n",
      "2\n",
      "3\n",
      "4\n",
      "5\n",
      "출력-------\n",
      "5\n",
      "1\n"
     ]
    }
   ],
   "source": [
    "trophy_array()"
   ]
  },
  {
   "cell_type": "code",
   "execution_count": 5,
   "metadata": {},
   "outputs": [
    {
     "name": "stdout",
     "output_type": "stream",
     "text": [
      "4\n",
      "5\n",
      "5\n",
      "5\n",
      "5\n",
      "출력-------\n",
      "1\n",
      "1\n"
     ]
    }
   ],
   "source": [
    "trophy_array()"
   ]
  },
  {
   "cell_type": "code",
   "execution_count": 6,
   "metadata": {},
   "outputs": [
    {
     "name": "stdout",
     "output_type": "stream",
     "text": [
      "5\n",
      "1\n",
      "2\n",
      "5\n",
      "2\n",
      "1\n",
      "출력-------\n",
      "3\n",
      "3\n"
     ]
    }
   ],
   "source": [
    "trophy_array()"
   ]
  },
  {
   "cell_type": "code",
   "execution_count": 7,
   "metadata": {},
   "outputs": [
    {
     "name": "stdout",
     "output_type": "stream",
     "text": [
      "7\n",
      "1\n",
      "4\n",
      "2\n",
      "5\n",
      "3\n",
      "7\n",
      "1\n",
      "출력-------\n",
      "4\n",
      "2\n"
     ]
    }
   ],
   "source": [
    "trophy_array()"
   ]
  },
  {
   "cell_type": "code",
   "execution_count": null,
   "metadata": {},
   "outputs": [],
   "source": []
  }
 ],
 "metadata": {
  "kernelspec": {
   "display_name": "Python 3",
   "language": "python",
   "name": "python3"
  },
  "language_info": {
   "codemirror_mode": {
    "name": "ipython",
    "version": 3
   },
   "file_extension": ".py",
   "mimetype": "text/x-python",
   "name": "python",
   "nbconvert_exporter": "python",
   "pygments_lexer": "ipython3",
   "version": "3.5.4"
  }
 },
 "nbformat": 4,
 "nbformat_minor": 2
}

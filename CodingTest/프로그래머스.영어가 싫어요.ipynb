{
 "cells": [
  {
   "cell_type": "code",
   "execution_count": null,
   "metadata": {},
   "outputs": [],
   "source": [
    "#Lv.0\n",
    "#문제 설명\n",
    "#영어가 싫은 머쓱이는 영어로 표기되어있는 숫자를 수로 바꾸려고 합니다. 문자열 numbers가 매개변수로 주어질 때,\n",
    "#numbers를 정수로 바꿔 return 하도록 solution 함수를 완성해 주세요.\n",
    "\n",
    "#<제한사항>\n",
    "#numbers는 소문자로만 구성되어 있습니다.\n",
    "#numbers는 \"zero\", \"one\", \"two\", \"three\", \"four\", \"five\", \"six\", \"seven\", \"eight\", \"nine\" 들이 공백 없이 조합되어 있습니다.\n",
    "#1 ≤ numbers의 길이 ≤ 50\n",
    "#\"zero\"는 numbers의 맨 앞에 올 수 없습니다."
   ]
  },
  {
   "cell_type": "code",
   "execution_count": 1,
   "metadata": {},
   "outputs": [],
   "source": [
    "# 2023/03/04\n",
    "def solution(numbers):\n",
    "    answer = 0\n",
    "    number_dict = {'zero':0, 'one':1, 'two':2, 'three':3, 'four':4, 'five':5, 'six':6, 'seven':7, 'eight':8, 'nine':9}\n",
    "    to_number = \"\"\n",
    "    print(number_dict)\n",
    "    print(numbers[:3])\n",
    "    \n",
    "    while len(numbers) > 0:\n",
    "        if numbers[:3] in number_dict:\n",
    "            to_number += str(number_dict[numbers[:3]])\n",
    "            numbers = numbers[3:]\n",
    "            print(\"1:\", to_number)\n",
    "        elif numbers[:4] in number_dict:\n",
    "            to_number += str(number_dict[numbers[:4]])\n",
    "            numbers = numbers[4:]\n",
    "            print(\"2:\", to_number)\n",
    "        elif numbers[:5] in number_dict:\n",
    "            to_number += str(number_dict[numbers[:5]])\n",
    "            numbers = numbers[5:]\n",
    "            print(\"3:\", to_number)\n",
    "    \n",
    "    answer = int(to_number)\n",
    "    \n",
    "    return answer\n",
    "\n",
    "# 3 : one, two, six\n",
    "# 4 : zero, four, five, nine\n",
    "# 5 : three, seven, eight"
   ]
  },
  {
   "cell_type": "code",
   "execution_count": 2,
   "metadata": {},
   "outputs": [
    {
     "name": "stdout",
     "output_type": "stream",
     "text": [
      "{'one': 1, 'nine': 9, 'three': 3, 'seven': 7, 'six': 6, 'zero': 0, 'two': 2, 'five': 5, 'four': 4, 'eight': 8}\n",
      "one\n",
      "1: 1\n",
      "1: 12\n",
      "3: 123\n",
      "2: 1234\n",
      "2: 12345\n",
      "1: 123456\n",
      "3: 1234567\n",
      "3: 12345678\n",
      "2: 123456789\n"
     ]
    },
    {
     "data": {
      "text/plain": [
       "123456789"
      ]
     },
     "execution_count": 2,
     "metadata": {},
     "output_type": "execute_result"
    }
   ],
   "source": [
    "solution(\"onetwothreefourfivesixseveneightnine\")"
   ]
  },
  {
   "cell_type": "code",
   "execution_count": 3,
   "metadata": {},
   "outputs": [
    {
     "name": "stdout",
     "output_type": "stream",
     "text": [
      "{'one': 1, 'nine': 9, 'three': 3, 'seven': 7, 'six': 6, 'zero': 0, 'two': 2, 'five': 5, 'four': 4, 'eight': 8}\n",
      "one\n",
      "1: 1\n",
      "2: 14\n",
      "2: 140\n",
      "1: 1406\n",
      "3: 14067\n"
     ]
    },
    {
     "data": {
      "text/plain": [
       "14067"
      ]
     },
     "execution_count": 3,
     "metadata": {},
     "output_type": "execute_result"
    }
   ],
   "source": [
    "solution(\"onefourzerosixseven\")"
   ]
  },
  {
   "cell_type": "code",
   "execution_count": null,
   "metadata": {},
   "outputs": [],
   "source": []
  }
 ],
 "metadata": {
  "kernelspec": {
   "display_name": "Python 3",
   "language": "python",
   "name": "python3"
  },
  "language_info": {
   "codemirror_mode": {
    "name": "ipython",
    "version": 3
   },
   "file_extension": ".py",
   "mimetype": "text/x-python",
   "name": "python",
   "nbconvert_exporter": "python",
   "pygments_lexer": "ipython3",
   "version": "3.5.4"
  }
 },
 "nbformat": 4,
 "nbformat_minor": 2
}

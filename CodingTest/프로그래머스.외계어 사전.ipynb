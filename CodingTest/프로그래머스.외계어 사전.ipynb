{
 "cells": [
  {
   "cell_type": "code",
   "execution_count": null,
   "metadata": {},
   "outputs": [],
   "source": [
    "#Lv.0\n",
    "#문제 설명\n",
    "#PROGRAMMERS-962 행성에 불시착한 우주비행사 머쓱이는 외계행성의 언어를 공부하려고 합니다.\n",
    "#알파벳이 담긴 배열 spell과 외계어 사전 dic이 매개변수로 주어집니다. spell에 담긴 알파벳을 한번씩만 모두 사용한 단어가\n",
    "#dic에 존재한다면 1, 존재하지 않는다면 2를 return하도록 solution 함수를 완성해주세요.\n",
    "\n",
    "#<제한사항>\n",
    "#spell과 dic의 원소는 알파벳 소문자로만 이루어져있습니다.\n",
    "#2 ≤ spell의 크기 ≤ 10\n",
    "#spell의 원소의 길이는 1입니다.\n",
    "#1 ≤ dic의 크기 ≤ 10\n",
    "#1 ≤ dic의 원소의 길이 ≤ 10\n",
    "#spell의 원소를 모두 사용해 단어를 만들어야 합니다.\n",
    "#spell의 원소를 모두 사용해 만들 수 있는 단어는 dic에 두 개 이상 존재하지 않습니다.\n",
    "#dic과 spell 모두 중복된 원소를 갖지 않습니다."
   ]
  },
  {
   "cell_type": "code",
   "execution_count": 1,
   "metadata": {},
   "outputs": [],
   "source": [
    "# 2023/03/12\n",
    "def solution(spell, dic):\n",
    "    answer = 0\n",
    "    \n",
    "    for data in dic:\n",
    "        exist_count = 0\n",
    "            \n",
    "        for i in range(len(spell)):\n",
    "            if spell[i] in data:\n",
    "                exist_count += 1\n",
    "            elif spell[i] not in data:\n",
    "                break\n",
    "        \n",
    "        if exist_count == len(spell):\n",
    "            answer = 1\n",
    "            break\n",
    "    \n",
    "    if answer == 0:\n",
    "        answer = 2\n",
    "    \n",
    "    return answer"
   ]
  },
  {
   "cell_type": "code",
   "execution_count": 2,
   "metadata": {},
   "outputs": [
    {
     "data": {
      "text/plain": [
       "2"
      ]
     },
     "execution_count": 2,
     "metadata": {},
     "output_type": "execute_result"
    }
   ],
   "source": [
    "solution([\"p\", \"o\", \"s\"], [\"sod\", \"eocd\", \"qixm\", \"adio\", \"soo\"])"
   ]
  },
  {
   "cell_type": "code",
   "execution_count": 3,
   "metadata": {},
   "outputs": [
    {
     "data": {
      "text/plain": [
       "1"
      ]
     },
     "execution_count": 3,
     "metadata": {},
     "output_type": "execute_result"
    }
   ],
   "source": [
    "solution([\"z\", \"d\", \"x\"], [\"def\", \"dww\", \"dzx\", \"loveaw\"])"
   ]
  },
  {
   "cell_type": "code",
   "execution_count": 4,
   "metadata": {},
   "outputs": [
    {
     "data": {
      "text/plain": [
       "2"
      ]
     },
     "execution_count": 4,
     "metadata": {},
     "output_type": "execute_result"
    }
   ],
   "source": [
    "solution([\"s\", \"o\", \"m\", \"d\"], [\"moos\", \"dzx\", \"smm\", \"sunmmo\", \"som\"])"
   ]
  },
  {
   "cell_type": "code",
   "execution_count": null,
   "metadata": {},
   "outputs": [],
   "source": []
  }
 ],
 "metadata": {
  "kernelspec": {
   "display_name": "Python 3",
   "language": "python",
   "name": "python3"
  },
  "language_info": {
   "codemirror_mode": {
    "name": "ipython",
    "version": 3
   },
   "file_extension": ".py",
   "mimetype": "text/x-python",
   "name": "python",
   "nbconvert_exporter": "python",
   "pygments_lexer": "ipython3",
   "version": "3.5.4"
  }
 },
 "nbformat": 4,
 "nbformat_minor": 2
}

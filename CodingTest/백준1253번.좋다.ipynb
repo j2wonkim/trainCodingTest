{
 "cells": [
  {
   "cell_type": "code",
   "execution_count": 3,
   "metadata": {},
   "outputs": [],
   "source": [
    "# 23/1/26\n",
    "# 백준, 1253번.좋다\n",
    "# https://www.acmicpc.net/problem/1253\n",
    "def good(n):\n",
    "    data_list, good_list = list(), list()\n",
    "    \n",
    "    for i in range(n):\n",
    "        data_list.append(int(input()))\n",
    "    \n",
    "    good_list = [0 for i in range(0, n)]\n",
    "    \n",
    "    for i in range(n):\n",
    "        for j in range(i + 1, n):\n",
    "            sum_data = data_list[i] + data_list[j]\n",
    "            \n",
    "            for k in range(i + 2, n):\n",
    "                if sum_data == data_list[k]:\n",
    "                    good_list[k] = 1\n",
    "                    break\n",
    "    \n",
    "    sum = 0\n",
    "    for count in range(n):\n",
    "        if good_list[count] == 1:\n",
    "            sum += 1\n",
    "    \n",
    "    return sum"
   ]
  },
  {
   "cell_type": "code",
   "execution_count": 4,
   "metadata": {},
   "outputs": [
    {
     "name": "stdout",
     "output_type": "stream",
     "text": [
      "1\n",
      "2\n",
      "3\n",
      "4\n",
      "5\n",
      "6\n",
      "7\n",
      "8\n",
      "9\n",
      "10\n"
     ]
    },
    {
     "data": {
      "text/plain": [
       "8"
      ]
     },
     "execution_count": 4,
     "metadata": {},
     "output_type": "execute_result"
    }
   ],
   "source": [
    "good(10)"
   ]
  },
  {
   "cell_type": "code",
   "execution_count": 6,
   "metadata": {},
   "outputs": [
    {
     "name": "stdout",
     "output_type": "stream",
     "text": [
      "1\n",
      "2\n",
      "5\n",
      "8\n",
      "10\n",
      "12\n",
      "15\n",
      "20\n",
      "21\n",
      "26\n"
     ]
    },
    {
     "data": {
      "text/plain": [
       "6"
      ]
     },
     "execution_count": 6,
     "metadata": {},
     "output_type": "execute_result"
    }
   ],
   "source": [
    "good(10)"
   ]
  },
  {
   "cell_type": "code",
   "execution_count": null,
   "metadata": {},
   "outputs": [],
   "source": []
  }
 ],
 "metadata": {
  "kernelspec": {
   "display_name": "Python 3",
   "language": "python",
   "name": "python3"
  },
  "language_info": {
   "codemirror_mode": {
    "name": "ipython",
    "version": 3
   },
   "file_extension": ".py",
   "mimetype": "text/x-python",
   "name": "python",
   "nbconvert_exporter": "python",
   "pygments_lexer": "ipython3",
   "version": "3.5.4"
  }
 },
 "nbformat": 4,
 "nbformat_minor": 2
}
